{
 "cells": [
  {
   "cell_type": "markdown",
   "metadata": {},
   "source": [
    "# Web Complexity"
   ]
  },
  {
   "cell_type": "markdown",
   "metadata": {},
   "source": [
    "## Importing Files"
   ]
  },
  {
   "cell_type": "code",
   "execution_count": 100,
   "metadata": {},
   "outputs": [],
   "source": [
    "import json\n",
    "import matplotlib.pyplot as plt"
   ]
  },
  {
   "cell_type": "code",
   "execution_count": 101,
   "metadata": {},
   "outputs": [
    {
     "name": "stdout",
     "output_type": "stream",
     "text": [
      "242 websites scanned\n"
     ]
    }
   ],
   "source": [
    "with open(\"./output.json\") as file:\n",
    "    websites = json.load(file)\n",
    "website_len=len(websites)\n",
    "print(\"{} websites scanned\".format(website_len))"
   ]
  },
  {
   "cell_type": "markdown",
   "metadata": {},
   "source": [
    "## A Glimpse of Generated Data"
   ]
  },
  {
   "cell_type": "code",
   "execution_count": 102,
   "metadata": {},
   "outputs": [
    {
     "name": "stdout",
     "output_type": "stream",
     "text": [
      "Unclassified but Available : 43\n",
      "Classified but Unavailable (Not 200) : 0\n",
      "Classified and Available : 102\n",
      "Unclassified and Unavailable (Not 200) : 97\n",
      "Repeated Websites : 0\n",
      "Average Rank : 243358\n"
     ]
    }
   ],
   "source": [
    "# Between Classified/Unclassified and Available/Unavailable\n",
    "info = {\n",
    "    \"Unclassified but Available\": 0,\n",
    "    \"Classified but Unavailable (Not 200)\": 0,\n",
    "    \"Classified and Available\": 0,\n",
    "    \"Unclassified and Unavailable (Not 200)\": 0,\n",
    "    \"Repeated Websites\":0,\n",
    "    \"Average Rank\":0\n",
    "}\n",
    "rank_arr=[]\n",
    "webdetails={}\n",
    "webcategory={}\n",
    "mime_used={}\n",
    "for site in websites:\n",
    "    try:\n",
    "        webdetails[site[\"name\"]]+=1\n",
    "    except:\n",
    "        webdetails[site[\"name\"]]=1\n",
    "    try:\n",
    "        webcategory[site[\"category\"]]+=1\n",
    "    except:\n",
    "        webcategory[site[\"category\"]]=1\n",
    "    if(site[\"category\"]==\"Unclassified\"):\n",
    "        if(site[\"reqcode\"]==\"N/A\"):\n",
    "            info[\"Unclassified and Unavailable (Not 200)\"]+=1\n",
    "        else:\n",
    "            info[\"Unclassified but Available\"]+=1\n",
    "    else:\n",
    "        if(site[\"reqcode\"]==\"N/A\"):\n",
    "            info[\"Classified but Unavailable (Not 200)\"]+=1\n",
    "        else:\n",
    "            info[\"Classified and Available\"]+=1\n",
    "    if(webdetails[site[\"name\"]]>1):\n",
    "        info[\"Repeated Websites\"]+=1\n",
    "    info[\"Average Rank\"]+=site[\"rank\"]\n",
    "    rank_arr.append((site[\"rank\"],site[\"name\"]))\n",
    "    # for request in site[\"reqdetails\"]:\n",
    "info[\"Average Rank\"]//=count\n",
    "for t in info.keys():\n",
    "    print(\"{} : {}\".format(t,info[t]))"
   ]
  },
  {
   "cell_type": "code",
   "execution_count": 103,
   "metadata": {},
   "outputs": [
    {
     "name": "stdout",
     "output_type": "stream",
     "text": [
      "\n",
      "Category-wise splitup:\n",
      "Unclassified: 140\n",
      "Entertainment: 7\n",
      "Business/Economy: 23\n",
      "Technology/Internet: 13\n",
      "Health: 8\n",
      "Suspicious: 4\n",
      "News: 2\n",
      "Education: 2\n",
      "Sports/Recreation: 2\n",
      "Shopping: 2\n",
      "Society/Daily Living: 1\n",
      "Audio/Video Clips: 2\n",
      "Government/Legal: 4\n",
      "Reference: 5\n",
      "Real Estate: 1\n",
      "Charitable/Non-Profit: 2\n",
      "Gambling: 1\n",
      "Newsgroups/Forums: 2\n",
      "Pornography: 1\n",
      "Finance: 1\n",
      "Office/Business Applications: 1\n",
      "Travel: 6\n",
      "Restaurants/Food: 3\n",
      "Software Downloads: 2\n",
      "TV/Video Streams: 1\n",
      "Social Networking: 2\n",
      "Media Sharing: 2\n",
      "Games: 1\n",
      "Brokerage/Trading: 1\n"
     ]
    }
   ],
   "source": [
    "print(\"\\nCategory-wise splitup:\")\n",
    "for t in webcategory.keys():\n",
    "    print(\"{}: {}\".format(t,webcategory[t]))"
   ]
  },
  {
   "cell_type": "code",
   "execution_count": 104,
   "metadata": {},
   "outputs": [
    {
     "name": "stdout",
     "output_type": "stream",
     "text": [
      "(998531, 'xqcisr.buzz'): Max Rank\n"
     ]
    }
   ],
   "source": [
    "rank_arr.sort(key=lambda x:x[0])\n",
    "print(\"{}: Max Rank\".format(rank_arr[len(rank_arr)-1]))"
   ]
  },
  {
   "cell_type": "markdown",
   "metadata": {},
   "source": [
    "## Separating Websites into Buckets\n",
    "Because we didnt have the complete means to collect the data, we've not been able to "
   ]
  },
  {
   "cell_type": "code",
   "execution_count": 105,
   "metadata": {},
   "outputs": [],
   "source": [
    "def chunks(lst, n):\n",
    "    \"\"\"Yield successive n-sized chunks from lst.\"\"\"\n",
    "    for i in range(0, len(lst), n):\n",
    "        yield lst[i:i + n]\n",
    "\n",
    "def buckets_generate(arr,count):\n",
    "    old_chunk=[]\n",
    "    for i in range(0,website_len,10):\n",
    "        chunk=list(chunks(arr,website_len-i))\n",
    "        if(len(old_chunk)>=count and len(chunk)!=len(old_chunk)):\n",
    "            return old_chunk\n",
    "        old_chunk=chunk"
   ]
  },
  {
   "cell_type": "code",
   "execution_count": 106,
   "metadata": {},
   "outputs": [
    {
     "name": "stdout",
     "output_type": "stream",
     "text": [
      "Bucket 0: 62 websites from rank 2 to 75553\n",
      "Bucket 1: 62 websites from rank 76201 to 161459\n",
      "Bucket 2: 62 websites from rank 161847 to 299200\n",
      "Bucket 3: 56 websites from rank 312449 to 998531\n"
     ]
    }
   ],
   "source": [
    "buckets=buckets_generate(rank_arr,4)\n",
    "for index,bucket in enumerate(buckets):\n",
    "    print(\"Bucket {}: {} websites from rank {} to {}\".format(index,len(bucket),min(bucket[0][0],bucket[len(bucket)-1][0]),max(bucket[0][0],bucket[len(bucket)-1][0])))"
   ]
  },
  {
   "cell_type": "markdown",
   "metadata": {},
   "source": [
    "## Content Complexity\n",
    "### Number of Object Requests Made"
   ]
  },
  {
   "cell_type": "code",
   "execution_count": null,
   "metadata": {},
   "outputs": [],
   "source": [
    "def num_of_req(bucket):\n",
    "    for rank,site in bucket:\n",
    "        "
   ]
  },
  {
   "cell_type": "code",
   "execution_count": null,
   "metadata": {},
   "outputs": [],
   "source": []
  },
  {
   "cell_type": "code",
   "execution_count": null,
   "metadata": {},
   "outputs": [],
   "source": []
  }
 ],
 "metadata": {
  "kernelspec": {
   "display_name": "Python 3",
   "language": "python",
   "name": "python3"
  },
  "language_info": {
   "codemirror_mode": {
    "name": "ipython",
    "version": 3
   },
   "file_extension": ".py",
   "mimetype": "text/x-python",
   "name": "python",
   "nbconvert_exporter": "python",
   "pygments_lexer": "ipython3",
   "version": "3.7.4"
  }
 },
 "nbformat": 4,
 "nbformat_minor": 2
}
