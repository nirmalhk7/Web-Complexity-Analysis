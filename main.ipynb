{
  "nbformat": 4,
  "nbformat_minor": 0,
  "metadata": {
    "kernelspec": {
      "display_name": "Python 3",
      "language": "python",
      "name": "python3"
    },
    "colab": {
      "name": "main.ipynb",
      "provenance": []
    }
  },
  "cells": [
    {
      "cell_type": "markdown",
      "metadata": {
        "id": "-ln1dkvOhT4m",
        "colab_type": "text"
      },
      "source": [
        "# Characterizing Webpage Complexity and Its Impact"
      ]
    },
    {
      "cell_type": "markdown",
      "metadata": {
        "id": "zCN3XwWLhT4n",
        "colab_type": "text"
      },
      "source": [
        "#### Importing Necessary Libraries"
      ]
    },
    {
      "cell_type": "code",
      "metadata": {
        "id": "j3VUX7rhhT4p",
        "colab_type": "code",
        "colab": {}
      },
      "source": [
        "import pandas as pd"
      ],
      "execution_count": null,
      "outputs": []
    },
    {
      "cell_type": "markdown",
      "metadata": {
        "id": "N9pP-8SthT4w",
        "colab_type": "text"
      },
      "source": [
        "#### Dataset Demo"
      ]
    },
    {
      "cell_type": "code",
      "metadata": {
        "id": "1Mdshw2NhT4x",
        "colab_type": "code",
        "colab": {},
        "outputId": "866b92a8-88ef-4aeb-bd4d-493339d80b2d"
      },
      "source": [
        "data=pd.read_csv(\"dataset.csv\")\n",
        "data.set_index('rank',inplace=True)\n",
        "sub_data=data[:2000]\n",
        "sub_data.head()"
      ],
      "execution_count": null,
      "outputs": [
        {
          "output_type": "execute_result",
          "data": {
            "text/html": [
              "<div>\n",
              "<style scoped>\n",
              "    .dataframe tbody tr th:only-of-type {\n",
              "        vertical-align: middle;\n",
              "    }\n",
              "\n",
              "    .dataframe tbody tr th {\n",
              "        vertical-align: top;\n",
              "    }\n",
              "\n",
              "    .dataframe thead th {\n",
              "        text-align: right;\n",
              "    }\n",
              "</style>\n",
              "<table border=\"1\" class=\"dataframe\">\n",
              "  <thead>\n",
              "    <tr style=\"text-align: right;\">\n",
              "      <th></th>\n",
              "      <th>name</th>\n",
              "    </tr>\n",
              "    <tr>\n",
              "      <th>rank</th>\n",
              "      <th></th>\n",
              "    </tr>\n",
              "  </thead>\n",
              "  <tbody>\n",
              "    <tr>\n",
              "      <td>1</td>\n",
              "      <td>google.com</td>\n",
              "    </tr>\n",
              "    <tr>\n",
              "      <td>2</td>\n",
              "      <td>facebook.com</td>\n",
              "    </tr>\n",
              "    <tr>\n",
              "      <td>3</td>\n",
              "      <td>youtube.com</td>\n",
              "    </tr>\n",
              "    <tr>\n",
              "      <td>4</td>\n",
              "      <td>microsoft.com</td>\n",
              "    </tr>\n",
              "    <tr>\n",
              "      <td>5</td>\n",
              "      <td>twitter.com</td>\n",
              "    </tr>\n",
              "  </tbody>\n",
              "</table>\n",
              "</div>"
            ],
            "text/plain": [
              "               name\n",
              "rank               \n",
              "1        google.com\n",
              "2      facebook.com\n",
              "3       youtube.com\n",
              "4     microsoft.com\n",
              "5       twitter.com"
            ]
          },
          "metadata": {
            "tags": []
          },
          "execution_count": 31
        }
      ]
    },
    {
      "cell_type": "code",
      "metadata": {
        "id": "Zn0WykH8hT43",
        "colab_type": "code",
        "colab": {},
        "outputId": "37192d4c-ca77-4eba-f6f0-876061e1061d"
      },
      "source": [
        "print(\"Size of dataset: %d websites\"%len(data))"
      ],
      "execution_count": null,
      "outputs": [
        {
          "output_type": "stream",
          "text": [
            "Size of dataset: 1000000 websites\n"
          ],
          "name": "stdout"
        }
      ]
    },
    {
      "cell_type": "code",
      "metadata": {
        "id": "ugNexWUHhT4-",
        "colab_type": "code",
        "colab": {}
      },
      "source": [
        ""
      ],
      "execution_count": null,
      "outputs": []
    }
  ]
}